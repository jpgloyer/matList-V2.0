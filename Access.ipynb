{
 "cells": [
  {
   "cell_type": "code",
   "execution_count": 23,
   "id": "cfacf0ee",
   "metadata": {},
   "outputs": [
    {
     "name": "stdout",
     "output_type": "stream",
     "text": [
      "['0B', '0C', '0D', '0A', '1', '1U', '1W', '1Z', '1E', '1T', '1D', '1H', '1F', '1C', '1B', '1X', '1Y', '1K', '1P', '1L', '1J', '1M', '1N', '1R', '1AA', '1A', '1G', '1V', '2G', '2D', '2J', '2H', '2K', '2C', '2A', '2B', '2F', '2E', '3M', '3C', '3A', '3F', '3G', '3', '3H', '3J', '3E', '3K', '3B', '3L', '3D', '4R', '4D', '4F', '4A', '4S', '4W', '4E', '4', '4T', '4L', '4K', '4J', '4H', '4M', '4V', '4P', '4B', '4N', '4C', '4G', '4U', '5A', '8', '10', '10D', '10C', '10A', '11F', '11J', '11D', '11E', '11G', '11L', '11K', '11C', '11B', '11', '11H', '11A', '12N', '12P', '12H', '12J', '12A', '12G', '12E', '12B', '12S', '12M', '12D', '12C', '12', '12K', '12F', '12L', '12R', '13S', '13J', '13C', '13F', '13E', '13G', '13D', '13N', '13M', '13', '13L', '13T', '13P', '13H', '13A', '13Z', '13R', '13K', '13B', '14R', '14M', '14T', '14N', '14P', '14U', '14D', '14B', '14K', '14J', '14A', '14C', '14E', '14L', '14G', '14F', '14H', '15A', '15', '16B', '16A', '16', '17', '20D', '20N', '20A', '20L', '20K', '20J', '20H', '20B', '20C', '20E', '20F', '20M', '20G', '21F', '21B', '21C', '21A', '21E', '21D', '31K', '31B', '31W', '31M', '31', '31U', '31T', '31F', '31V', '31E', '31C', '31G', '31X', '31Y', '31J', '31L', '31H', '31N', '31R', '31P', '31A', '31D', '32L', '32K', '32C', '32G', '32F', '32E', '32J', '32', '32A', '32M', '32D', '32H', '32N', '32B', '35E', '35F', '35P', '35C', '35', '35N', '35D', '35L', '35S', '35J', '35R', '35A', '35M', '35H', '35K', '35G', '35B', '37B', '37A', '37', '37C', '40A', '40', '41', '42', '42A', '42B', '43', '43B', '43A', '44D', '44E', '44F', '44A', '44', '44B', '44C', '45A', '45B', '45D', '45', '45C', '45H', '45G', '45F', '45K', '45E', '45J', '46', '47', '48', '49A', '49', '49C', '49B', '50B', '50H', '50C', '50A', '50G', '50E', '50J', '50D', '50', '50F', '51', '52', '52A', '53C', '53D', '53A', '53', '53B', '60A', '60', '60B', '76B', '76A', '76', '77D', '77C', '77', '77B', '77A', '78B', '78', '78A', '80D', '80B', '80', '80A', '80C', '81B', '81C', '81A', '82A', '82B', '82', '82C', '83A', '83', '90A', '90B', '90C', '90', '91', '91C', '91B', '91E', '91F', '91D', '91A', '92', '99A', '99', '100', '100A', '101B', '101A', '101', '101C', '102C', '102B', '102', '102A', '103A', '103C', '103B', '103', '104C', '104B', '104', '104A', '105B', '105C', '105D', '105E', '105G', '105F', '105', '105H', '105J', '105A', '106', '106A', '106B', '107', '107A', '107B', '108', '108A', '108B', '109', '109A', '110A', '110', '111C', '111H', '111K', '111J', '111E', '111B', '111A', '111G', '111F', '111M', '111', '111L', '111D', '112', '112A', '112C', '112D', '112B', '113C', '113A', '113B', '113D', '118', '118A', '118C', '118B', '119', '120C', '120D', '120', '120A', '120B', '121', '122', '123', '123C', '123B', '124B', '124', '124A', '125E', '125G', '125A', '125J', '125H', '125F', '125C', '125D', '125', '125B', '128', '129C', '129B', '129', '129A', '130B', '130D', '130E', '130C', '130F', '130', '130A', '130G', '131', '131A', '131C', '131D', '132B', '132C', '132', '132D', '132A', '133A', '133', '134', '134B', '134A', '134C', '135F', '135G', '135E', '135A', '135', '135D', '135B', '135C', '136B', '136A', '136', '137', '137A', '140A', '140', '141A', '141', '150', '150A', '150B', '151', '151A', '159A', '159', '161A', '161', '162B', '162A', '162', '162C', '163B', '163', '163A', '164', '164A', '164B', '165A', '165', '165B', '166', '166B', '166A', '166C', '167B', '167', '167D', '167A', '167C', '168', '168B', '168A', '169A', '169', '170A', '170B', '170', '171A', '171', '172B', '172A', '172', '173', '173B', '173A', '175B', '198', '199C', '199', '199D', '199B', '199A', '200A', '200L', '200K', '200J', '200F', '200E', '200H', '200N', '200B', '200G', '200M', '200C', '200D', '201J', '201B', '201G', '201F', '201E', '201D', '201C', '201H', '201A', '202A', '202B', '202C', '202D', '202E', '202F', '202G', '202H', '203D', '203U', '203T', '203S', '203R', '203K', '203C', '203L', '203E', '203F', '203G', '203H', '203J', '203P', '203A', '203N', '203M', '203B', '204C', '204G', '204D', '204F', '204B', '204A', '204L', '204K', '204J', '204H', '204E', '205C', '205G', '205F', '205E', '205D', '205A', '205B', '206E', '206H', '206F', '206G', '206D', '206C', '206B', '206A', '207J', '207L', '207M', '207K', '207H', '207F', '207E', '207D', '207C', '207B', '207G', '207A', '208C', '208M', '208L', '208K', '208G', '208F', '208J', '208N', '208H', '208A', '208D', '208B', '208E', '209E', '209N', '209B', '209M', '209L', '209K', '209J', '209H', '209G', '209F', '209C', '209A', '209D', '210E', '210L', '210K', '210J', '210F', '210D', '210C', '210B', '210H', '210A', '211A', '211N', '211L', '211K', '211H', '211G', '211F', '211E', '211D', '211B', '211M', '211C', '212C', '212D', '212F', '212G', '212H', '212J', '212K', '212B', '212A', '212E', '213B', '213K', '213J', '213H', '213A', '213C', '213D', '213E', '213F', '213G', '214A', '214F', '214L', '214K', '214J', '214H', '214G', '214E', '214D', '214B', '214C', '215F', '215K', '215L', '215N', '215J', '215H', '215G', '215D', '215C', '215B', '215A', '215E', '215M', '216E', '216B', '216D', '216F', '216A', '216C', '217J', '217M', '217N', '217L', '217K', '217G', '217F', '217E', '217D', '217C', '217A', '217B', '217H', '218H', '218L', '218A', '218J', '218G', '218F', '218E', '218D', '218C', '218B', '218K', '249A', '249B', '249D', '249E', '249C', '250A', '999']\n"
     ]
    }
   ],
   "source": [
    "import pyodbc\n",
    "import pandas as pd # Optional, for easier data handling\n",
    "\n",
    "# For .accdb files (Access 2007 and later)\n",
    "conn_str = (\n",
    "    r\"DRIVER={Microsoft Access Driver (*.mdb, *.accdb)};\"\n",
    "    r\"DBQ=C:\\Users\\pgloyer.LAP-2862\\Desktop\\Material List Code\\Relay Material.accdb\"\n",
    "    )\n",
    "\n",
    "try:\n",
    "    cnxn = pyodbc.connect(conn_str)\n",
    "    cursor = cnxn.cursor()\n",
    "\n",
    "    query = \"SELECT * FROM Material ORDER BY `Item Number`\"\n",
    "    cursor.execute(query)\n",
    "\n",
    "    # Fetch all results\n",
    "    rows = cursor.fetchall()\n",
    "\n",
    "    # Optional: Load into a Pandas DataFrame\n",
    "    columns = [column[0] for column in cursor.description]\n",
    "    df = pd.DataFrame.from_records(rows, columns=columns)\n",
    "    itemNumbers = df[[\"Item Number\",\"Suffix 1\",\"Suffix 2\"]].values.tolist()\n",
    "    itemStrings = [''.join(str(x) for x in sublist if x is not None) for sublist in itemNumbers]\n",
    "    print(itemStrings)\n",
    "\n",
    "except pyodbc.Error as ex:\n",
    "    sqlstate = ex.args[0]\n",
    "    print(f\"Database error: {sqlstate}\")\n",
    "\n",
    "finally:\n",
    "    if 'cnxn' in locals() and cnxn:\n",
    "        cnxn.close()"
   ]
  },
  {
   "cell_type": "code",
   "execution_count": null,
   "id": "b62c3e78",
   "metadata": {},
   "outputs": [],
   "source": [
    "import pyodbc\n",
    "import pandas as pd # Optional, for easier data handling\n",
    "\n",
    "# For .accdb files (Access 2007 and later)\n",
    "conn_str = (\n",
    "    r\"DRIVER={Microsoft Access Driver (*.mdb, *.accdb)};\"\n",
    "    r\"DBQ=C:\\Users\\lwooten\\Desktop\\Relay Material.accdb;\"\n",
    "    )\n",
    "\n",
    "try:\n",
    "    cnxn = pyodbc.connect(conn_str)\n",
    "    cursor = cnxn.cursor()\n",
    "\n",
    "    # Example: Select all data from a table named 'YourTable'\n",
    "    query = \"SELECT * FROM MaterialDescription ORDER BY ItemNo\"\n",
    "    \n",
    "    cursor.execute(query)\n",
    "    \n",
    "    # Fetch all results\n",
    "    rows = cursor.fetchall()\n",
    "\n",
    "    # Optional: Load into a Pandas DataFrame\n",
    "    columns = [column[0] for column in cursor.description]\n",
    "    df = pd.DataFrame.from_records(rows, columns=columns)\n",
    "    print(df[['Desc']].values.tolist()[0])\n",
    "\n",
    "except pyodbc.Error as ex:\n",
    "    sqlstate = ex.args[0]\n",
    "    print(f\"Database error: {sqlstate}\")\n",
    "\n",
    "finally:\n",
    "    if 'cnxn' in locals() and cnxn:\n",
    "        cnxn.close()"
   ]
  }
 ],
 "metadata": {
  "kernelspec": {
   "display_name": "Python 3",
   "language": "python",
   "name": "python3"
  },
  "language_info": {
   "codemirror_mode": {
    "name": "ipython",
    "version": 3
   },
   "file_extension": ".py",
   "mimetype": "text/x-python",
   "name": "python",
   "nbconvert_exporter": "python",
   "pygments_lexer": "ipython3",
   "version": "3.13.7"
  }
 },
 "nbformat": 4,
 "nbformat_minor": 5
}
